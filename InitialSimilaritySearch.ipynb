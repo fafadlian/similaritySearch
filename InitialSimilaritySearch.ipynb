{
 "cells": [
  {
   "cell_type": "code",
   "execution_count": 1,
   "metadata": {},
   "outputs": [],
   "source": [
    "import xml.etree.ElementTree as ET\n"
   ]
  },
  {
   "cell_type": "code",
   "execution_count": 40,
   "metadata": {},
   "outputs": [],
   "source": [
    "def parse_xml(file_path):\n",
    "    tree = ET.parse(file_path)\n",
    "    root = tree.getroot()\n",
    "\n",
    "    data = []\n",
    "    for pnr in root.findall('.//PNR'):\n",
    "        bookID = pnr.find('.//BookingRefID').get('ID') if pnr.find('.//BookingRefID') is not None else 'Unknown'\n",
    "        for passenger in pnr.findall('.//Passenger'):\n",
    "            name = passenger.find('.//GivenName').text.strip() + ' ' + passenger.find('.//Surname').text.strip()\n",
    "            # Example: Extracting date of birth and nationality\n",
    "            date_of_birth = passenger.find('.//DOC_SSR/DOCS').get('DateOfBirth') if passenger.find('.//DOC_SSR/DOCS') is not None else 'Unknown'\n",
    "            nationality = passenger.find('.//DOC_SSR/DOCS').get('PaxNationality') if passenger.find('.//DOC_SSR/DOCS') is not None else 'Unknown'\n",
    "            # Add latitude, longitude, and age extraction if available\n",
    "            data.append((name, bookID, date_of_birth, nationality))\n",
    "    return data"
   ]
  },
  {
   "cell_type": "code",
   "execution_count": 43,
   "metadata": {},
   "outputs": [],
   "source": [
    "w = parse_xml('data/XML_DATAV3/358.xml')"
   ]
  },
  {
   "cell_type": "code",
   "execution_count": 44,
   "metadata": {},
   "outputs": [
    {
     "data": {
      "text/plain": [
       "[('Anthony Reed', 'DXB-HAM-leisure-ID8', '1994-02-17', 'AUS'),\n",
       " ('slmn Cunningham', 'DXB-HAM-leisure-ID41', 'Unknown', 'Unknown'),\n",
       " ('`zyz Cunningham', 'DXB-HAM-leisure-ID41', 'Unknown', 'Unknown'),\n",
       " ('`qly uCnnngihma', 'DXB-HAM-leisure-ID41', '1994-08-23', 'AUS'),\n",
       " ('Todd Anderson', 'DXB-HAM-leisure-ID70', 'Unknown', 'Unknown'),\n",
       " ('Susan Anderson', 'DXB-HAM-leisure-ID70', '1965-08-17', 'MAC'),\n",
       " ('John Taylor', 'DXB-HAM-leisure-ID335', '1981-02-05', 'UZB'),\n",
       " ('frHn knw', 'DXB-HAM-leisure-ID388', 'Unknown', 'Unknown'),\n",
       " ('blqys knw', 'DXB-HAM-leisure-ID388', '1978-02-23', 'EGY'),\n",
       " ('Maria Payne', 'DXB-HAM-leisure-ID135', 'Unknown', 'Unknown'),\n",
       " ('Leslie Payne', 'DXB-HAM-leisure-ID135', 'Unknown', 'Unknown'),\n",
       " ('Stephanie Payne', 'DXB-HAM-leisure-ID135', '1974-05-08', 'MYS'),\n",
       " ('Charlie Hou Teng', 'DXB-HAM-leisure-ID295', 'Unknown', 'Unknown'),\n",
       " ('Eileen Hou Teng', 'DXB-HAM-leisure-ID295', '1951-10-06', 'TZA'),\n",
       " ('Kunaporn Pasuk', 'DXB-HAM-leisure-ID316', '1950-08-03', 'THA'),\n",
       " ('Christopher Chaudet', 'DXB-HAM-leisure-ID352', 'Unknown', 'Unknown'),\n",
       " ('Barbara Chaudet', 'DXB-HAM-leisure-ID352', 'Unknown', 'Unknown'),\n",
       " ('Patrick Chaudet', 'DXB-HAM-leisure-ID352', '2012-04-05', 'IRL'),\n",
       " ('nf` al qSyr', 'DXB-HAM-leisure-ID412', '1973-12-16', 'TTO'),\n",
       " ('Joseph Perkins', 'DXB-HAM-business-ID22', 'Unknown', 'Unknown'),\n",
       " ('James Johnson', 'DXB-HAM-business-ID22', '1973-02-27', 'MAC'),\n",
       " ('Roy Lievens', 'DXB-HAM-business-ID75', 'Unknown', 'Unknown'),\n",
       " ('Vanessa Roberts', 'DXB-HAM-business-ID75', '1985-01-24', 'IMN'),\n",
       " ('Guy Lampinen', 'DXB-HAM-business-ID77', 'Unknown', 'Unknown'),\n",
       " ('Hayley sbg', 'DXB-HAM-business-ID77', 'Unknown', 'Unknown'),\n",
       " ('Tom French', 'DXB-HAM-business-ID77', 'Unknown', 'Unknown'),\n",
       " ('Zoe Moore', 'DXB-HAM-business-ID77', '1977-06-07', 'IMN'),\n",
       " ('William Perez', 'DXB-HAM-leisure-ID6', 'Unknown', 'Unknown'),\n",
       " ('Cynthia Perez', 'DXB-HAM-leisure-ID6', '1986-06-16', 'AUS'),\n",
       " ('Robert Day', 'DXB-HAM-leisure-ID82', 'Unknown', 'Unknown'),\n",
       " ('Brittany Day', 'DXB-HAM-leisure-ID82', 'Unknown', 'Unknown'),\n",
       " ('Alicia Day', 'DXB-HAM-leisure-ID82', '1972-02-16', 'MAC'),\n",
       " ('Anna Greer', 'DXB-HAM-leisure-ID93', '1988-03-25', 'MMR'),\n",
       " ('Kelsey Hansen', 'DXB-HAM-leisure-ID201', '1943-02-11', 'PYF'),\n",
       " ('Kunaporn Pasuk', 'DXB-HAM-leisure-ID316', '1950-08-03', 'THA'),\n",
       " ('Stephanie Hood', 'DXB-HAM-leisure-ID328', '1996-06-13', 'TWN'),\n",
       " ('Aimee Hall', 'DXB-HAM-leisure-ID558', '1981-07-24', 'GGY'),\n",
       " ('Leigh Haase', 'DXB-HAM-leisure-ID595', 'Unknown', 'Unknown'),\n",
       " ('Victoria Haase', 'DXB-HAM-leisure-ID595', '1987-03-22', 'MTQ'),\n",
       " ('Olivia Heath', 'DXB-HAM-leisure-ID614', 'Unknown', 'Unknown'),\n",
       " ('Jonathan Heath', 'DXB-HAM-leisure-ID614', '1981-04-20', 'GIB'),\n",
       " ('Timothy Mason', 'DXB-HAM-leisure-ID721', 'Unknown', 'Unknown'),\n",
       " ('Gail Mason', 'DXB-HAM-leisure-ID721', '1960-07-24', 'IMN'),\n",
       " ('Joseph bag', 'DXB-HAM-leisure-ID803', 'Unknown', 'Unknown'),\n",
       " ('Denise bag', 'DXB-HAM-leisure-ID803', '1999-10-06', 'CHL'),\n",
       " ('Jack Lucas', 'DXB-HAM-leisure-ID811', 'Unknown', 'Unknown'),\n",
       " ('Holly Lucas', 'DXB-HAM-leisure-ID811', '1982-10-07', 'JEY'),\n",
       " ('Christian Meszaros', 'DXB-HAM-leisure-ID818', 'Unknown', 'Unknown'),\n",
       " ('Barbara Meszaros', 'DXB-HAM-leisure-ID818', '1975-08-21', 'KAZ'),\n",
       " ('Angela Norris', 'DXB-HAM-leisure-ID828', '1985-12-22', 'JEY'),\n",
       " ('slTn al Sfwn', 'DXB-HAM-leisure-ID955', 'Unknown', 'Unknown'),\n",
       " (\"'frH al Sfwn\", 'DXB-HAM-leisure-ID955', 'Unknown', 'Unknown'),\n",
       " ('my al Sfwn', 'DXB-HAM-leisure-ID955', 'Unknown', 'Unknown'),\n",
       " ('`ly@ al Sfwn', 'DXB-HAM-leisure-ID955', 'Unknown', 'Unknown'),\n",
       " ('Syl al Sfwn', 'DXB-HAM-leisure-ID955', 'Unknown', 'Unknown'),\n",
       " ('frt al Sfwn', 'DXB-HAM-leisure-ID955', 'Unknown', 'Unknown'),\n",
       " ('sdym al Sfwn', 'DXB-HAM-leisure-ID955', 'Unknown', 'Unknown'),\n",
       " ('bysn al Sfwn', 'DXB-HAM-leisure-ID955', '1974-09-17', 'MAR'),\n",
       " ('rshdy al `yD', 'DXB-HAM-leisure-ID985', '1984-03-20', 'MAR'),\n",
       " (\"`dhb 'bw dwwd\", 'DXB-HAM-leisure-ID994', '1957-11-24', 'MAR'),\n",
       " ('Darryl Brown', 'DXB-HAM-leisure-ID1380', 'Unknown', 'Unknown'),\n",
       " ('Amy Brown', 'DXB-HAM-leisure-ID1380', '1987-05-05', 'TZA'),\n",
       " ('Timothy Cook', 'DXB-HAM-leisure-ID110', 'Unknown', 'Unknown'),\n",
       " ('Ashley Cook', 'DXB-HAM-leisure-ID110', 'Unknown', 'Unknown'),\n",
       " ('Diana Cook', 'DXB-HAM-leisure-ID110', '1972-05-07', 'MMR'),\n",
       " ('tmym Rowe', 'DXB-HAM-leisure-ID269', 'Unknown', 'Unknown'),\n",
       " ('nwrh Rowe', 'DXB-HAM-leisure-ID269', 'Unknown', 'Unknown'),\n",
       " ('bnn Rowe', 'DXB-HAM-leisure-ID269', '1972-11-06', 'YEM'),\n",
       " ('Chase Zimmerman', 'DXB-HAM-leisure-ID330', 'Unknown', 'Unknown'),\n",
       " ('Kelly Zimmerman', 'DXB-HAM-leisure-ID330', 'Unknown', 'Unknown'),\n",
       " ('Erin Zimmerman', 'DXB-HAM-leisure-ID330', '1973-06-25', 'TWN'),\n",
       " ('James Sanford', 'DXB-HAM-leisure-ID345', 'Unknown', 'Unknown'),\n",
       " ('Monica Sanford', 'DXB-HAM-leisure-ID345', 'Unknown', 'Unknown'),\n",
       " ('Alexa Sanford', 'DXB-HAM-leisure-ID345', 'Unknown', 'Unknown'),\n",
       " ('Stephanie Sanford', 'DXB-HAM-leisure-ID345', 'Unknown', 'Unknown'),\n",
       " ('Erin Sanford', 'DXB-HAM-leisure-ID345', '1976-02-23', 'UZB'),\n",
       " ('Jose Glover', 'DXB-HAM-business-ID20', 'Unknown', 'Unknown'),\n",
       " ('Jared Potts', 'DXB-HAM-business-ID20', '1949-08-29', 'SLV'),\n",
       " ('Joy Kinnunen', 'DXB-HAM-leisure-ID19', 'Unknown', 'Unknown'),\n",
       " ('William Kinnunen', 'DXB-HAM-leisure-ID19', '1990-07-08', 'SDN'),\n",
       " ('Chad Webb', 'DXB-HAM-leisure-ID97', '1978-01-21', 'MMR'),\n",
       " ('Derrick Berry', 'DXB-HAM-business-ID19', 'Unknown', 'Unknown'),\n",
       " ('Antonio Wright', 'DXB-HAM-business-ID19', '1967-07-25', 'MMR'),\n",
       " ('Jeffery Deladoey', 'DXB-HAM-leisure-ID22', 'Unknown', 'Unknown'),\n",
       " ('Mary Deladoey', 'DXB-HAM-leisure-ID22', '1966-04-12', 'SEN'),\n",
       " ('Jose Miller', 'DXB-HAM-leisure-ID347', '1996-06-21', 'UZB'),\n",
       " ('Cheryl Shchors', 'DXB-HAM-leisure-ID349', '1955-02-13', 'BIH'),\n",
       " ('Colleen Thompson', 'DXB-HAM-leisure-ID58', 'Unknown', 'Unknown'),\n",
       " ('Stephen Thompson', 'DXB-HAM-leisure-ID58', '1968-04-03', 'BRN'),\n",
       " ('Jacqueline Smith', 'DXB-HAM-leisure-ID63', 'Unknown', 'Unknown'),\n",
       " ('Julie Smith', 'DXB-HAM-leisure-ID63', 'Unknown', 'Unknown'),\n",
       " ('Donna Smith', 'DXB-HAM-leisure-ID63', 'Unknown', 'Unknown'),\n",
       " ('Alexis Smith', 'DXB-HAM-leisure-ID63', '1976-08-06', 'BRN'),\n",
       " ('Joseph Mathews', 'DXB-HAM-leisure-ID147', 'Unknown', 'Unknown'),\n",
       " ('Annette Mathews', 'DXB-HAM-leisure-ID147', 'Unknown', 'Unknown'),\n",
       " ('Sandy Mathews', 'DXB-HAM-leisure-ID147', '1972-01-08', 'NZL'),\n",
       " ('rw`@ lshy`', 'DXB-HAM-leisure-ID192', '1949-04-08', 'PSE'),\n",
       " ('Dennis Anderson', 'DXB-HAM-leisure-ID226', '1944-06-05', 'TJK'),\n",
       " ('Brian Peterson', 'DXB-HAM-leisure-ID142', '1948-02-25', 'MYS'),\n",
       " ('khsh`@ bn ldn', 'DXB-HAM-leisure-ID184', 'Unknown', 'Unknown'),\n",
       " ('wSf bn ldn', 'DXB-HAM-leisure-ID184', 'Unknown', 'Unknown'),\n",
       " ('jwyn bn ldn', 'DXB-HAM-leisure-ID184', 'Unknown', 'Unknown'),\n",
       " ('bylsn bn ldn', 'DXB-HAM-leisure-ID184', 'Unknown', 'Unknown'),\n",
       " (\"'lyn bn ldn\", 'DXB-HAM-leisure-ID184', '1976-11-05', 'PSE'),\n",
       " ('Michael Chase', 'DXB-HAM-leisure-ID238', 'Unknown', 'Unknown'),\n",
       " ('Ruth Chase', 'DXB-HAM-leisure-ID238', '1974-01-14', 'TJK'),\n",
       " ('Juan Huff', 'DXB-HAM-leisure-ID60', 'Unknown', 'Unknown'),\n",
       " ('Meredith Huff', 'DXB-HAM-leisure-ID60', '1974-12-21', 'BRN'),\n",
       " ('Matthew Hanssen', 'DXB-HAM-leisure-ID127', 'Unknown', 'Unknown'),\n",
       " ('Karen Hanssen', 'DXB-HAM-leisure-ID127', 'Unknown', 'Unknown'),\n",
       " ('Matthew Hanssen', 'DXB-HAM-leisure-ID127', 'Unknown', 'Unknown'),\n",
       " ('Stephanie Hanssen', 'DXB-HAM-leisure-ID127', 'Unknown', 'Unknown'),\n",
       " ('Elizabeth Hanssen', 'DXB-HAM-leisure-ID127', '2010-09-18', 'ARG'),\n",
       " ('Lisa Ferguson', 'DXB-HAM-leisure-ID163', 'Unknown', 'Unknown'),\n",
       " ('Nathan Ferguson', 'DXB-HAM-leisure-ID163', '1975-01-04', 'NZL'),\n",
       " ('Adam Evans', 'DXB-HAM-leisure-ID232', 'Unknown', 'Unknown'),\n",
       " ('Amber Evans', 'DXB-HAM-leisure-ID232', 'Unknown', 'Unknown'),\n",
       " ('Charles Evans', 'DXB-HAM-leisure-ID232', '2021-09-26', 'TJK'),\n",
       " ('Adrian Mitchell', 'DXB-HAM-leisure-ID239', 'Unknown', 'Unknown'),\n",
       " ('Crystal Mitchell', 'DXB-HAM-leisure-ID239', 'Unknown', 'Unknown'),\n",
       " ('Molly Mitchell', 'DXB-HAM-leisure-ID239', '1976-08-15', 'TJK')]"
      ]
     },
     "execution_count": 44,
     "metadata": {},
     "output_type": "execute_result"
    }
   ],
   "source": []
  },
  {
   "cell_type": "code",
   "execution_count": 26,
   "metadata": {},
   "outputs": [
    {
     "data": {
      "text/plain": [
       "[('Richard Stuart', 'Unknown', 'Unknown', 'Unknown'),\n",
       " ('Frank Doyle', 'Unknown', 'Unknown', 'Unknown')]"
      ]
     },
     "execution_count": 26,
     "metadata": {},
     "output_type": "execute_result"
    }
   ],
   "source": [
    "w"
   ]
  }
 ],
 "metadata": {
  "kernelspec": {
   "display_name": "base",
   "language": "python",
   "name": "python3"
  },
  "language_info": {
   "codemirror_mode": {
    "name": "ipython",
    "version": 3
   },
   "file_extension": ".py",
   "mimetype": "text/x-python",
   "name": "python",
   "nbconvert_exporter": "python",
   "pygments_lexer": "ipython3",
   "version": "3.9.17"
  }
 },
 "nbformat": 4,
 "nbformat_minor": 2
}
